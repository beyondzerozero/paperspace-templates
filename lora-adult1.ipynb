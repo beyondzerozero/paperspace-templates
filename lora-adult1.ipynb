{
 "cells": [
  {
   "cell_type": "code",
   "execution_count": null,
   "metadata": {},
   "outputs": [],
   "source": [
    "%cd /notebooks/stable-diffusion-webui/models/Lora\n",
    "!wget -nc https://civitai.com/api/download/models/24505 -O FRONT1-000025.safetensors\n",
    "!wget -nc https://civitai.com/api/download/models/8614 -O breasts_on_glass.safetensors\n",
    "!wget -nc https://civitai.com/api/download/models/23040 -O POVBGV2.safetensors\n",
    "!wget -nc https://civitai.com/api/download/models/29860 -O SelfBreastGrab.safetensors\n",
    "!wget -nc https://civitai.com/api/download/models/22756 -O nipple tweak【nipple tweak】.safetensors\n",
    "!wget -nc https://civitai.com/api/download/models/192301 -O lactationFP16_by_Gtonero.safetensors\n",
    "!wget -nc https://civitai.com/api/download/models/18385 -O SelfBreastSuckingMS.safetensors\n",
    "!wget -nc https://civitai.com/api/download/models/58224 -O paizuri-new-2.safetensors\n",
    "!wget -nc https://civitai.com/api/download/models/106320 -O paizuri.safetensors\n",
    "!wget -nc https://civitai.com/api/download/models/14996 -O POVPaizuri.safetensors\n",
    "!wget -nc https://civitai.com/api/download/models/106320 -O paizuri.safetensors\n",
    "!wget -nc https://civitai.com/api/download/models/85416 -O udeoshizuri_v4.safetensors\n",
    "!wget -nc https://civitai.com/api/download/models/288845 -O breast_sucking_v2.4.safetensors"
   ]
  }
 ],
 "metadata": {
  "language_info": {
   "name": "python"
  }
 },
 "nbformat": 4,
 "nbformat_minor": 2
}
