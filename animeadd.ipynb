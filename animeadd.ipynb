{
 "cells": [
  {
   "cell_type": "markdown",
   "metadata": {},
   "source": [
    "애니메이션 모델\n",
    "Koji 2.1 , VAE = kl-f8-anime2\n",
    "하사쿠 헨타이 \n",
    "MeinaMix 인기 있는 모델\n",
    "YabaL_MIX VAE =  vae-ft-mse-840000-ema-pruned\n",
    "Dark Sushi Mix"
   ]
  },
  {
   "cell_type": "code",
   "execution_count": null,
   "metadata": {},
   "outputs": [],
   "source": [
    "%cd /notebooks/stable-diffusion-webui/models/Stable-diffusion\n",
    "!wget -nc https://civitai.com/api/download/models/90674 -O koji_v21.safetensors\n",
    "!wget -nc https://civitai.com/api/download/models/106922 -O hassakuHentaiModel_v13.safetensors\n",
    "!wget -nc https://civitai.com/api/download/models/119057 -O meinamix_meinaV11.safetensors\n",
    "!wget -nc https://civitai.com/api/download/models/250906 -O yabalMixAnirealistic_v4.safetensors\n",
    "!wget -nc https://civitai.com/api/download/models/93208 -O darkSushiMixMix_225D.safetensors"
   ]
  },
  {
   "cell_type": "code",
   "execution_count": null,
   "metadata": {},
   "outputs": [],
   "source": [
    "%cd /notebooks/stable-diffusion-webui/models/VAE\n",
    "!wget -nc https://civitai.com/api/download/models/28569 -O kl-f8-anime2.safetensors"
   ]
  },
  {
   "cell_type": "markdown",
   "metadata": {},
   "source": [
    "SDXL"
   ]
  },
  {
   "cell_type": "code",
   "execution_count": null,
   "metadata": {},
   "outputs": [],
   "source": [
    "%cd /notebooks/stable-diffusion-webui/models/Stable-diffusion\n",
    "!wget -nc https://huggingface.co/stabilityai/stable-diffusion-xl-base-1.0/resolve/main/sd_xl_base_1.0.safetensors -O sd_xl_base_1.0.safetensors\n",
    "!wget -nc https://huggingface.co/stabilityai/stable-diffusion-xl-refiner-1.0/resolve/main/sd_xl_refiner_1.0.safetensors -O sd_xl_refiner_1.0.safetensors"
   ]
  },
  {
   "cell_type": "code",
   "execution_count": null,
   "metadata": {},
   "outputs": [],
   "source": [
    "%cd /notebooks/stable-diffusion-webui/models/VAE\n",
    "!wget -nc https://huggingface.co/stabilityai/sdxl-vae/resolve/main/sdxl_vae.safetensors -O sdxl_vae.safetensors"
   ]
  },
  {
   "cell_type": "code",
   "execution_count": null,
   "metadata": {},
   "outputs": [],
   "source": [
    "%cd /notebooks/stable-diffusion-webui/models/Stable-diffusion\n",
    "!wget -nc https://civitai.com/api/download/models/300541 -O toonystarKorean_xlV10.safetensors"
   ]
  }
 ],
 "metadata": {
  "language_info": {
   "name": "python"
  }
 },
 "nbformat": 4,
 "nbformat_minor": 2
}
