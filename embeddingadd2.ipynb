{
 "cells": [
  {
   "cell_type": "code",
   "execution_count": null,
   "metadata": {},
   "outputs": [],
   "source": [
    "%cd /notebooks/stable-diffusion-webui/embeddings\n",
    "!wget -nc https://civitai.com/api/download/models/36538 -O badv5.pt"
   ]
  },
  {
   "cell_type": "code",
   "execution_count": null,
   "metadata": {},
   "outputs": [],
   "source": [
    "%cd /notebooks/stable-diffusion-webui/models/Lora\n",
    "!wget -nc https://civitai.com/api/download/models/86247 -O flat2.safetensors"
   ]
  }
 ],
 "metadata": {
  "language_info": {
   "name": "python"
  }
 },
 "nbformat": 4,
 "nbformat_minor": 2
}
