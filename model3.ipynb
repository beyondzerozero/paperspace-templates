{
 "cells": [
  {
   "cell_type": "markdown",
   "metadata": {},
   "source": [
    "KenCanMix\n",
    "AbyssOrangeMix3"
   ]
  },
  {
   "cell_type": "code",
   "execution_count": null,
   "metadata": {},
   "outputs": [],
   "source": [
    "%cd /notebooks/stable-diffusion-webui/models/Stable-diffusion\n",
    "!wget -nc https://civitai.com/api/download/models/65787 -O kencanmix_v20Beta.safetensors\n",
    "!wget -nc https://civitai.com/api/download/models/11812 -O abyssorangemix3AOM3_aom3a2.safetensors"
   ]
  }
 ],
 "metadata": {
  "language_info": {
   "name": "python"
  }
 },
 "nbformat": 4,
 "nbformat_minor": 2
}
