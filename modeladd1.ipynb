{
 "cells": [
  {
   "cell_type": "code",
   "execution_count": null,
   "metadata": {},
   "outputs": [],
   "source": [
    "%cd /notebooks/stable-diffusion-webui/models/Stable-diffusion\n",
    "!wget -nc https://civitai.com/api/download/models/177164 -O beautifulRealistic_v7.safetensors\n",
    "!wget -nc https://civitai.com/api/download/models/178711 -O yayoiMix_v25.safetensors\n",
    "!wget -nc https://civitai.com/api/download/models/90505 -O realbeautymix_v15.safetensors\n",
    "!wget -nc https://civitai.com/api/download/models/143740 -O aiAngelMix_v30.safetensors\n",
    "!wget -nc https://civitai.com/api/download/models/102222 -O xxmix9realistic_v40.safetensors"
   ]
  }
 ],
 "metadata": {
  "language_info": {
   "name": "python"
  }
 },
 "nbformat": 4,
 "nbformat_minor": 2
}
