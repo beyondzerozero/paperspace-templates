{
 "cells": [
  {
   "cell_type": "code",
   "execution_count": null,
   "metadata": {},
   "outputs": [],
   "source": [
    "%cd /notebooks/stable-diffusion-webui/models/Stable-diffusion\n",
    "!wget -nc https://civitai.com/api/download/models/140552 -O 4375xs1875sham1sham3_v80.safetensors\n",
    "!wget -nc https://civitai.com/api/download/models/176425 -O majicmixRealistic_v7.safetensors"
   ]
  }
 ],
 "metadata": {
  "language_info": {
   "name": "python"
  }
 },
 "nbformat": 4,
 "nbformat_minor": 2
}
